{
 "cells": [
  {
   "cell_type": "markdown",
   "id": "8bd72960",
   "metadata": {},
   "source": [
    "# Write a python program to find the factorial of a number\n"
   ]
  },
  {
   "cell_type": "code",
   "execution_count": null,
   "id": "b98345b0",
   "metadata": {},
   "outputs": [],
   "source": [
    "def fact_num(x):  \n",
    "    fact=1\n",
    "    for i in range (1,x+1):\n",
    "        fact=fact*i\n",
    "    return fact"
   ]
  },
  {
   "cell_type": "markdown",
   "id": "f7e8c8bb",
   "metadata": {},
   "source": [
    "# Write a python program to find whether a number is prime or composite."
   ]
  },
  {
   "cell_type": "code",
   "execution_count": 6,
   "id": "5316eab6",
   "metadata": {},
   "outputs": [],
   "source": [
    "\n",
    "def comp_or_prime(n):\n",
    "    if n<=1:\n",
    "        return 'Neither prime nor composit'\n",
    "    elif n<=3:\n",
    "        return 'Prime'\n",
    "    elif n % 2 == 0:\n",
    "        return 'Composit'\n",
    "    else:\n",
    "        for i in range(3,int(n/2)+1,2): # checking if the numbr is divisible by odd numbers till half of n\n",
    "            if n%i==0:\n",
    "                return 'Composit'\n",
    "            else:\n",
    "                return 'Prime'"
   ]
  },
  {
   "cell_type": "markdown",
   "id": "eed4ee99",
   "metadata": {},
   "source": [
    "# Write a python program to check whether a given string is palindrome or not.\n"
   ]
  },
  {
   "cell_type": "code",
   "execution_count": 15,
   "id": "bbbae64d",
   "metadata": {
    "scrolled": true
   },
   "outputs": [
    {
     "name": "stdout",
     "output_type": "stream",
     "text": [
      "Enter a string  121\n",
      "Please enter a string not anything else\n",
      "Enter a string  abc\n",
      "It is not palendrome\n"
     ]
    }
   ],
   "source": [
    "\n",
    "while True:\n",
    "    string=input(str('Enter a string  '))\n",
    "    string=string.upper()\n",
    "    if string.isalpha():\n",
    "        if(string==string[::-1]):\n",
    "             print('It is palendrome')\n",
    "        else:\n",
    "            print('It is not palendrome')\n",
    "        break\n",
    "    else:\n",
    "        print('Please enter a string not anything else')\n",
    "    "
   ]
  },
  {
   "cell_type": "markdown",
   "id": "ded93d6f",
   "metadata": {},
   "source": [
    "# Write a python program to print the frequency of each of the characters present in a given string"
   ]
  },
  {
   "cell_type": "code",
   "execution_count": 16,
   "id": "a4f474f5",
   "metadata": {},
   "outputs": [
    {
     "name": "stdout",
     "output_type": "stream",
     "text": [
      "Enter a stringhello my nam is Saket\n",
      "H = 1\n",
      "E = 2\n",
      "L = 2\n",
      "O = 1\n",
      "  = 4\n",
      "M = 2\n",
      "Y = 1\n",
      "N = 1\n",
      "A = 2\n",
      "I = 1\n",
      "S = 2\n",
      "K = 1\n",
      "T = 1\n"
     ]
    }
   ],
   "source": [
    "st=input ('Enter a string') \n",
    "st=st.upper()\n",
    "empty=set()\n",
    "for i in st:\n",
    "    if i not in empty:\n",
    "        print(i,'=',st.count(i))\n",
    "        empty.add(i)"
   ]
  },
  {
   "cell_type": "markdown",
   "id": "0935a1d4",
   "metadata": {},
   "source": [
    "# Write a Python program to get the third side of right-angled triangle from two given sides."
   ]
  },
  {
   "cell_type": "code",
   "execution_count": 20,
   "id": "82a455c9",
   "metadata": {},
   "outputs": [
    {
     "name": "stdout",
     "output_type": "stream",
     "text": [
      "Enter first side length :- 18\n",
      "Enter the second side length:- 9\n",
      "The length of the third side is:- 20.12461179749811\n"
     ]
    }
   ],
   "source": [
    "import math\n",
    "\n",
    "side1 = float(input(\"Enter first side length :- \"))\n",
    "side2 = float(input(\"Enter the second side length:- \"))\n",
    "\n",
    "def calculate_third_side(side1, side2):\n",
    "    return math.sqrt(side1**2 + side2**2)\n",
    "\n",
    "third_side = calculate_third_side(side1, side2)\n",
    "\n",
    "print(\"The length of the third side is:-\", third_side)\n"
   ]
  },
  {
   "cell_type": "code",
   "execution_count": null,
   "id": "14c7d9de",
   "metadata": {},
   "outputs": [],
   "source": []
  }
 ],
 "metadata": {
  "kernelspec": {
   "display_name": "Python 3 (ipykernel)",
   "language": "python",
   "name": "python3"
  },
  "language_info": {
   "codemirror_mode": {
    "name": "ipython",
    "version": 3
   },
   "file_extension": ".py",
   "mimetype": "text/x-python",
   "name": "python",
   "nbconvert_exporter": "python",
   "pygments_lexer": "ipython3",
   "version": "3.9.12"
  }
 },
 "nbformat": 4,
 "nbformat_minor": 5
}
